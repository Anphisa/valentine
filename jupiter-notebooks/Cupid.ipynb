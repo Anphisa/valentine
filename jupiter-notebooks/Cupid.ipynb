{
 "cells": [
  {
   "cell_type": "code",
   "execution_count": 5,
   "metadata": {},
   "outputs": [],
   "source": [
    "import string"
   ]
  },
  {
   "cell_type": "markdown",
   "metadata": {},
   "source": [
    "# Linguistic Matching"
   ]
  },
  {
   "cell_type": "markdown",
   "metadata": {},
   "source": [
    "## Normalization"
   ]
  },
  {
   "cell_type": "code",
   "execution_count": 3,
   "metadata": {},
   "outputs": [],
   "source": [
    "data = 'POList. Order #. 01-Id.'"
   ]
  },
  {
   "cell_type": "code",
   "execution_count": 6,
   "metadata": {},
   "outputs": [],
   "source": [
    "table = str.maketrans({key: ' ' for key in string.punctuation})\n",
    "# stop_words = set(stopwords.words('english')) \n",
    "# wordnet_lemmatizer = WordNetLemmatizer()\n",
    "# porter_stemmer = PorterStemmer()\n",
    "\n",
    "#lowercase applying utf-8 conversion\n",
    "# data = data.casefold()\n",
    "# remove punctuation\n",
    "data = data.translate(table) \n",
    "# tokenize the data\n",
    "# data_tokens = nltk.word_tokenize(data)\n",
    "# for each token that is not a stopword, first lemmatize and then stem\n",
    "# data_tokens = [porter_stemmer.stem(wordnet_lemmatizer.lemmatize(t, pos=\"v\")) for t in data_tokens \n",
    "#               if t not in stop_words]\n",
    "\n",
    "# return ' '.join(data_tokens)"
   ]
  },
  {
   "cell_type": "code",
   "execution_count": 11,
   "metadata": {},
   "outputs": [
    {
     "data": {
      "text/plain": [
       "'0123456789abcdefghijklmnopqrstuvwxyzABCDEFGHIJKLMNOPQRSTUVWXYZ!\"#$%&\\'()*+,-./:;<=>?@[\\\\]^_`{|}~ \\t\\n\\r\\x0b\\x0c'"
      ]
     },
     "execution_count": 11,
     "metadata": {},
     "output_type": "execute_result"
    }
   ],
   "source": [
    "string.printable"
   ]
  }
 ],
 "metadata": {
  "kernelspec": {
   "display_name": "Python 3",
   "language": "python",
   "name": "python3"
  },
  "language_info": {
   "codemirror_mode": {
    "name": "ipython",
    "version": 3
   },
   "file_extension": ".py",
   "mimetype": "text/x-python",
   "name": "python",
   "nbconvert_exporter": "python",
   "pygments_lexer": "ipython3",
   "version": "3.7.2"
  }
 },
 "nbformat": 4,
 "nbformat_minor": 2
}
